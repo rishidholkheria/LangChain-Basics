{
 "cells": [
  {
   "cell_type": "markdown",
   "id": "4a042e5f",
   "metadata": {},
   "source": [
    "DATA INGESTION - Document Loaders"
   ]
  },
  {
   "cell_type": "code",
   "execution_count": 3,
   "id": "94a8db34",
   "metadata": {},
   "outputs": [],
   "source": [
    "### Text Loader\n",
    "from langchain_community.document_loaders import TextLoader\n",
    "\n",
    "loader = TextLoader('speech.txt')\n"
   ]
  },
  {
   "cell_type": "code",
   "execution_count": 5,
   "id": "33a5e5b1",
   "metadata": {},
   "outputs": [
    {
     "data": {
      "text/plain": [
       "[Document(metadata={'source': 'speech.txt'}, page_content=\"India is a diverse and vibrant country located in South Asia, known for its rich cultural heritage, historical landmarks, and rapid technological growth. As the world's most populous democracy, India is home to over 1.4 billion people and boasts a wide range of languages, religions, and traditions. Economically, it is one of the fastest-growing major economies, with strong sectors in IT, pharmaceuticals, manufacturing, and services. India is also renowned for its contributions to science, mathematics, and literature, while continuing to play a key role in global innovation and diplomacy.\\n\\n\")]"
      ]
     },
     "execution_count": 5,
     "metadata": {},
     "output_type": "execute_result"
    }
   ],
   "source": [
    "text_document = loader.load()\n",
    "text_document\n",
    "## Loaded am entire document(txt) file to another file"
   ]
  },
  {
   "cell_type": "code",
   "execution_count": 11,
   "id": "60820457",
   "metadata": {},
   "outputs": [
    {
     "name": "stdout",
     "output_type": "stream",
     "text": [
      "Requirement already satisfied: pypdf in c:\\ai\\basicaichat\\venv\\lib\\site-packages (5.8.0)\n"
     ]
    },
    {
     "name": "stderr",
     "output_type": "stream",
     "text": [
      "\n",
      "[notice] A new release of pip is available: 24.3.1 -> 25.1.1\n",
      "[notice] To update, run: python.exe -m pip install --upgrade pip\n"
     ]
    }
   ],
   "source": [
    "### Reading from a PDF file\n",
    "!pip install pypdf"
   ]
  },
  {
   "cell_type": "code",
   "execution_count": 12,
   "id": "aaef8e90",
   "metadata": {},
   "outputs": [],
   "source": [
    "\n",
    "from langchain_community.document_loaders import PyPDFLoader\n",
    "pdfLoader = PyPDFLoader('Cricket_Info.pdf')\n",
    "docs = pdfLoader.load()"
   ]
  },
  {
   "cell_type": "code",
   "execution_count": 17,
   "id": "a6c1829d",
   "metadata": {},
   "outputs": [
    {
     "data": {
      "text/plain": [
       "list"
      ]
     },
     "execution_count": 17,
     "metadata": {},
     "output_type": "execute_result"
    }
   ],
   "source": [
    "docs\n",
    "type(docs)"
   ]
  },
  {
   "cell_type": "code",
   "execution_count": 24,
   "id": "465f12b4",
   "metadata": {},
   "outputs": [
    {
     "name": "stdout",
     "output_type": "stream",
     "text": [
      "Requirement already satisfied: bs4 in c:\\ai\\basicaichat\\venv\\lib\\site-packages (0.0.2)\n"
     ]
    },
    {
     "name": "stderr",
     "output_type": "stream",
     "text": [
      "ERROR: Could not find a version that satisfies the requirement as (from versions: none)\n",
      "\n",
      "[notice] A new release of pip is available: 24.3.1 -> 25.1.1\n",
      "[notice] To update, run: python.exe -m pip install --upgrade pip\n",
      "ERROR: No matching distribution found for as\n"
     ]
    }
   ],
   "source": [
    "### Web based loader\n",
    "!pip install bs4 as bs4"
   ]
  },
  {
   "cell_type": "code",
   "execution_count": 29,
   "id": "01eb3b79",
   "metadata": {},
   "outputs": [],
   "source": [
    "from langchain_community.document_loaders import WebBaseLoader\n",
    "from bs4 import SoupStrainer\n",
    "webLoader = WebBaseLoader(web_path=\"https://www.langchain.com/\", bs_kwargs=dict(parse_only = SoupStrainer(\n",
    "    class_=(\"text-size-body2\")\n",
    ")))"
   ]
  },
  {
   "cell_type": "code",
   "execution_count": 30,
   "id": "7ce48f7c",
   "metadata": {},
   "outputs": [
    {
     "data": {
      "text/plain": [
       "[Document(metadata={'source': 'https://www.langchain.com/'}, page_content='Build faster with templates & a visual agent IDE. Reuse, configure, and combine agents to go further with less code.Design agents that can handle sophisticated tasks with control. Add human-in-the-loop to steer and approve agent actions.See what’s happening - so you can quickly trace to root cause and debug issues. Evaluate your agent performance to improve over time.Teams building with LangChain products are driving operational efficiency, increasing discovery & personalization, and delivering premium products that generate revenue.Learn alongside the 1M+ practitioners using our frameworks to push the industry forward.')]"
      ]
     },
     "execution_count": 30,
     "metadata": {},
     "output_type": "execute_result"
    }
   ],
   "source": [
    "webLoader.load()"
   ]
  },
  {
   "cell_type": "code",
   "execution_count": 35,
   "id": "a21e405e",
   "metadata": {},
   "outputs": [
    {
     "name": "stderr",
     "output_type": "stream",
     "text": [
      "\n",
      "[notice] A new release of pip is available: 24.3.1 -> 25.1.1\n",
      "[notice] To update, run: python.exe -m pip install --upgrade pip\n"
     ]
    }
   ],
   "source": [
    "!pip install --quiet wikipedia"
   ]
  },
  {
   "cell_type": "code",
   "execution_count": 39,
   "id": "66cbb401",
   "metadata": {},
   "outputs": [],
   "source": [
    "from langchain_community.document_loaders import WikipediaLoader\n",
    "\n",
    "wkpLoader = WikipediaLoader(query=\"Virat Kohli\", load_max_docs=3)\n",
    "wkpDoc = wkpLoader.load()"
   ]
  },
  {
   "cell_type": "code",
   "execution_count": 48,
   "id": "da87cca9",
   "metadata": {},
   "outputs": [
    {
     "name": "stdout",
     "output_type": "stream",
     "text": [
      "[Document(metadata={'title': 'Virat Kohli', 'summary': \"Virat Kohli (born 5 November 1988) Hindi pronunciation: [ʋɪˈɾaːʈᵊ ˈkoːɦᵊliː]  is an Indian international cricketer and the former captain of the Indian national cricket team. He is a right-handed batsman and an occasional medium-fast bowler. He currently represents Royal Challengers Bengaluru in the IPL and Delhi in domestic cricket. Kohli is widely regarded as one of the greatest batters of all time. He also holds the record for scoring the most centuries in ODI cricket and stands second in the list of most international centuries scored, and is highest run-scorer in IPL. Kohli was a member of the Indian team that won the 2011 Cricket World Cup, 2013 ICC Champions Trophy, 2024 T20 World Cup and 2025 Champions Trophy. Further captained India to win the ICC Test mace three consecutive times in 2017, 2018, and 2019.\\nIn 2013, Kohli was ranked number one in the ICC rankings for ODI batsmen. In 2015, he achieved the summit of T20I rankings. In 2018, he was ranked top Test batsman, making him the only Indian cricketer to hold the number one spot in all three formats of the game. He is the first player to score 20,000 runs in a decade. In 2020, the International Cricket Council named him the male cricketer of the decade.\\nKohli has received many accolades for his performances in cricket. He won the ICC ODI Player of the Year award four times in 2012, 2017, 2018, and 2023. He also won the Sir Garfield Sobers Trophy, given to the ICC Cricketer of the Year, on two occasions, in 2017 and 2018 respectively. In 2018, he became the first player to win both ICC ODI and Test Player of the Year awards in the same year. Also, he was named the Wisden Leading Cricketer in the World for three consecutive years, from 2016 to 2018. At the national level, Kohli was honoured with the Arjuna Award in 2013, the Padma Shri in 2017, and India's highest sporting honour, the Khel Ratna award, in 2018.\\nIn 2018, Time magazine included him on its list of the 100 most influential people in the world. Kohli has been deemed one of the most commercially viable athletes, with estimated earnings of ₹634 crore (US$75 million) in the year 2022.\\n\\n\", 'source': 'https://en.wikipedia.org/wiki/Virat_Kohli'}, page_content=\"Virat Kohli (born 5 November 1988) Hindi pronunciation: [ʋɪˈɾaːʈᵊ ˈkoːɦᵊliː]  is an Indian international cricketer and the former captain of the Indian national cricket team. He is a right-handed batsman and an occasional medium-fast bowler. He currently represents Royal Challengers Bengaluru in the IPL and Delhi in domestic cricket. Kohli is widely regarded as one of the greatest batters of all time. He also holds the record for scoring the most centuries in ODI cricket and stands second in the list of most international centuries scored, and is highest run-scorer in IPL. Kohli was a member of the Indian team that won the 2011 Cricket World Cup, 2013 ICC Champions Trophy, 2024 T20 World Cup and 2025 Champions Trophy. Further captained India to win the ICC Test mace three consecutive times in 2017, 2018, and 2019.\\nIn 2013, Kohli was ranked number one in the ICC rankings for ODI batsmen. In 2015, he achieved the summit of T20I rankings. In 2018, he was ranked top Test batsman, making him the only Indian cricketer to hold the number one spot in all three formats of the game. He is the first player to score 20,000 runs in a decade. In 2020, the International Cricket Council named him the male cricketer of the decade.\\nKohli has received many accolades for his performances in cricket. He won the ICC ODI Player of the Year award four times in 2012, 2017, 2018, and 2023. He also won the Sir Garfield Sobers Trophy, given to the ICC Cricketer of the Year, on two occasions, in 2017 and 2018 respectively. In 2018, he became the first player to win both ICC ODI and Test Player of the Year awards in the same year. Also, he was named the Wisden Leading Cricketer in the World for three consecutive years, from 2016 to 2018. At the national level, Kohli was honoured with the Arjuna Award in 2013, the Padma Shri in 2017, and India's highest sporting honour, the Khel Ratna award, in 2018.\\nIn 2018, Time magazine included him on its list of the 100 most influential people in the world. Kohli has been deemed one of the most commercially viable athletes, with estimated earnings of ₹634 crore (US$75 million) in the year 2022.\\n\\n\\n== Early life ==\\nKohli was born on 5 November 1988 in Delhi into a Punjabi Hindu family. His mother Saroj Kohli is as a housewife while his father Prem Nath Kohli worked as a criminal lawyer. He has an elder brother Vikas and an elder sister Bhawna. His formative years were spent in Uttam Nagar. His early education was at Vishal Bharti Public School. As per his family, Kohli exhibited an early affinity for cricket as a 3-year-old. He would pick up a bat and request his father bowl to him. In 1998, the West Delhi Cricket Academy was created. In May, his father arranged for him to meet Rajkumar Sharma. Upon the suggestion of their neighbours, Kohli's father considered enrolling his son in a professional cricket academy, as they believed his ability merited more than gully cricket. He was unable to secure a place in the U-14 Delhi team, due to extraneous factors. His father reportedly received offers to relocate his son to influential clubs, which would ensure his selection, but he declined the proposals. Kohli found his way into the U-15 team. He received training at the academy and participated in matches at the Sumeet Dogra Academy located at Vasundhara Enclave. In pursuit of furthering his cricketing career, he transferred to Saviour Convent School during his ninth-grade education. On 18 December 2006, his father died due to a cerebral attack. As per his mother, Kohli's demeanour shifted noticeably after his father's death. He took on cricket with newfound seriousness, prioritizing playing time and dedicating himself fully to the sport. Kohli's family resided in Meera Bagh, Paschim Vihar until the year 2015, after which they relocated to Gurgaon.\\n\\n\\n== Youth career ==\\n\\n\\n=== Delhi team ===\\nKohli's junior cricket career kicked off in October 2002 at the Luhnu Cricket Ground against Himachal Pradesh. His first half-century in dom\"), Document(metadata={'title': 'Career of Virat Kohli', 'summary': \"Virat Kohli's senior career began when he made his debut in List A cricket, playing against Services in the Ranji One-Day Trophy, but he did not have the opportunity to bat during the match. On the international stage, he has been representing India since he was included in the ODl squad for the tour of Sri Lanka.\\nKohli was part of the team during India won the 2011 Cricket World Cup, the 2013 ICC Champions Trophy and the 2024 ICC T20 World Cup alongside several Asia Cups. He had previously led his side to the 2008 Under-19 Cricket World Cup title. In league cricket, Kohli has played for the Royal Challengers Bengaluru since the inception of the team in 2008.\", 'source': 'https://en.wikipedia.org/wiki/Career_of_Virat_Kohli'}, page_content=\"Virat Kohli's senior career began when he made his debut in List A cricket, playing against Services in the Ranji One-Day Trophy, but he did not have the opportunity to bat during the match. On the international stage, he has been representing India since he was included in the ODl squad for the tour of Sri Lanka.\\nKohli was part of the team during India won the 2011 Cricket World Cup, the 2013 ICC Champions Trophy and the 2024 ICC T20 World Cup alongside several Asia Cups. He had previously led his side to the 2008 Under-19 Cricket World Cup title. In league cricket, Kohli has played for the Royal Challengers Bengaluru since the inception of the team in 2008.\\n\\n\\n== Youth and domestic career ==\\n\\n\\n=== Delhi ===\\nKohli's junior cricket career kicked off in October 2002 at the Luhnu cricket ground in a match against the host state of Himachal Pradesh. In his debut match, Kohli managed to score a total of fifteen runs. His first half-century in national cricket came at Ferozeshah Kotla, where he scored 70 runs against Haryana. By the end of the season, Kohli had amassed a total of 172 runs, emerging as the highest run-scorer for his side with an average of 34.40. During the 2003–04 season, Kohli was appointed as the captain of the Under-15 team. In his first match of the season, he scored 54 runs in Delhi's victory over Himachal Pradesh. In the next fixture against Jammu and Kashmir, Kohli scored his maiden century with a score of 119 in a BCCI-conducted game. By the end of the season, he had amassed a total of 390 runs at an average of 78, which included two centuries. Towards the end of 2004, Kohli earned selection for the 2004–05 Vijay Merchant Trophy with the Delhi Under-17 team. In the four matches that he played, Kohli accumulated a total of 470 runs, with his highest score being 251* runs. The team's coach, Ajit Chaudhary, lauded his performance and was particularly impressed with his temperament on the field. Kohli commenced the 2005–06 season with a score of 227 against Punjab. Following their victory over Uttar Pradesh in the quarter-finals, Delhi was scheduled to play against Baroda in the semi-finals. The team had high expectations from Kohli, who had promised his coach to finish the job. True to his word, Kohli went on to score 228 runs, leading Delhi to victory. The team later secured the tournament with a five-wicket win over Mumbai, where he contributed with a half-century in the first innings. He ended as the highest run-scorer with a total of 757 runs from 7 matches, averaging 84.11.\\nOn 18 February 2006, Kohli made his debut in List A cricket, playing against Services in the Ranji One-Day Trophy, but he did not have the opportunity to bat during the match. In 2006, Kohli had garnered enough attention to earn a spot in the state senior team. Subsequently, he made his first-class debut on 23 November 2006, during the opening match of the Ranji Trophy season against Tamil Nadu. However, his debut innings was a brief one, as he was dismissed after scoring ten runs. In a sequence of three matches, Kohli failed to score a fifty, leading his coaches to provide him with counselling. In the subsequent match against former champions, Karnataka, Delhi found themselves trailing with a score of 130/5, with Kohli remaining unbeaten on 40 at the end of the day's play. That very night, Kohli's father died at 3:54 a.m. Despite the heart-wrenching news, Kohli returned to the match and continued to bat and scored 90 runs before he was dismissed. The team's coach, Chetan Chauhan was impressed by Kohli's resolute determination and unwavering attitude in the face of adversity. Venkatesh Prasad also lauded his crucial knock, which was executed in the midst of an emotional upheaval. Following his dismissal, Kohli attended his father's funeral. His innings, however, proved to be crucial for Delhi as they were able to avoid the follow-on. The team's captain, Mithun Manhas, praised Kohli for his performance, acknowledging its pivotal role in \"), Document(metadata={'title': 'List of international cricket centuries by Virat Kohli', 'summary': 'Virat Kohli is an Indian cricketer and a former captain of the Indian national cricket team. A right-handed top-order batsman, he has made 82 centuries in international cricket—30 in Test cricket, 51 in One Day Internationals (ODIs) and 1 in Twenty20 Internationals (T20Is).\\nKohli made his debut against Sri Lanka in August 2008, and scored his first century the following year when he made 107 against the same team at Eden Gardens, Kolkata. His 86-ball 133 not out against Sri Lanka in February 2012 led India to the second highest run-chase by any team in Australia. Former Australian cricketer Dean Jones described the innings as \"One of the greatest ODI knocks of all time!\". Kohli\\'s highest score of 183 came against Pakistan during the 2012 Asia Cup; India successfully chased a target of 330 set by Pakistan and Kohli was adjudged man of the match. Following that, he made his first century as a captain while playing against the West Indies in the 2013 Triangular Series. In the bilateral series against Australia in October 2013, Kohli made two centuries in successful run-chases. The first of the two, 100 not out, was scored off 52 balls and remains the fastest ODI century by an Indian. The next century, which was scored off 61 balls, remains the third-fastest by an Indian as of September 2019. In November 2023, he went past Sachin Tendulkar\\'s record for most ODI centuries when he made his 50th century in the format; he scored 117 against New Zealand at the 2023 Cricket World Cup knockout stage.\\nKohli made his Test debut against the West Indies in 2011 and scored his first century in the format during the Australian tour in January 2012. In the first Test of the 2014–15 Border–Gavaskar Trophy, he became the fourth Indian player to score centuries in both innings of a Test match after making 115 and 141. He was appointed as the captain of the Test team during the series and became the first player to score centuries in each of his first three Test innings as captain. In 2016, Kohli became the fifth player to score three or more double centuries in a calendar year. The following year, he repeated the feat and also became the first batsman to score four double centuries in consecutive Test series. His seven double centuries is the joint fourth-most by a player. In 2017, he became the first captain to score ten centuries in a calendar year. Following year, he scored eleven centuries, second-most in a calendar year to Tendulkar. In 2019, Kohli scored seven centuries which included five ODI-centuries. Moreover, he scored his highest score in Test-cricket against South Africa. In December 2022, Kohli scored a hundred against Bangladesh in the third ODI to surpass Ricky Ponting\\'s record of 71 centuries in international cricket.\\nKohli scored his only T20I hundred, his first century in international cricket in nearly three years, against Afghanistan at the 2022 Asia Cup. The following year, he scored 186 against Australia in the first innings of the fourth Test. He would score another century in the third innings of the first Test against Australia in November 2024; this would turn out to be his last Test century due to his retirement from the format in May 2025.', 'source': 'https://en.wikipedia.org/wiki/List_of_international_cricket_centuries_by_Virat_Kohli'}, page_content='Virat Kohli is an Indian cricketer and a former captain of the Indian national cricket team. A right-handed top-order batsman, he has made 82 centuries in international cricket—30 in Test cricket, 51 in One Day Internationals (ODIs) and 1 in Twenty20 Internationals (T20Is).\\nKohli made his debut against Sri Lanka in August 2008, and scored his first century the following year when he made 107 against the same team at Eden Gardens, Kolkata. His 86-ball 133 not out against Sri Lanka in February 2012 led India to the second highest run-chase by any team in Australia. Former Australian cricketer Dean Jones described the innings as \"One of the greatest ODI knocks of all time!\". Kohli\\'s highest score of 183 came against Pakistan during the 2012 Asia Cup; India successfully chased a target of 330 set by Pakistan and Kohli was adjudged man of the match. Following that, he made his first century as a captain while playing against the West Indies in the 2013 Triangular Series. In the bilateral series against Australia in October 2013, Kohli made two centuries in successful run-chases. The first of the two, 100 not out, was scored off 52 balls and remains the fastest ODI century by an Indian. The next century, which was scored off 61 balls, remains the third-fastest by an Indian as of September 2019. In November 2023, he went past Sachin Tendulkar\\'s record for most ODI centuries when he made his 50th century in the format; he scored 117 against New Zealand at the 2023 Cricket World Cup knockout stage.\\nKohli made his Test debut against the West Indies in 2011 and scored his first century in the format during the Australian tour in January 2012. In the first Test of the 2014–15 Border–Gavaskar Trophy, he became the fourth Indian player to score centuries in both innings of a Test match after making 115 and 141. He was appointed as the captain of the Test team during the series and became the first player to score centuries in each of his first three Test innings as captain. In 2016, Kohli became the fifth player to score three or more double centuries in a calendar year. The following year, he repeated the feat and also became the first batsman to score four double centuries in consecutive Test series. His seven double centuries is the joint fourth-most by a player. In 2017, he became the first captain to score ten centuries in a calendar year. Following year, he scored eleven centuries, second-most in a calendar year to Tendulkar. In 2019, Kohli scored seven centuries which included five ODI-centuries. Moreover, he scored his highest score in Test-cricket against South Africa. In December 2022, Kohli scored a hundred against Bangladesh in the third ODI to surpass Ricky Ponting\\'s record of 71 centuries in international cricket.\\nKohli scored his only T20I hundred, his first century in international cricket in nearly three years, against Afghanistan at the 2022 Asia Cup. The following year, he scored 186 against Australia in the first innings of the fourth Test. He would score another century in the third innings of the first Test against Australia in November 2024; this would turn out to be his last Test century due to his retirement from the format in May 2025.\\n\\n\\n== Key ==\\n\\n\\n== Test centuries ==\\n\\n\\n== ODI centuries ==\\n\\n\\n== T20I centuries ==\\n\\n\\n== Footnotes ==\\n\\n\\n== References ==\\n\\n\\n== Bibliography ==\\nMemon, Ayaz; Rao, C. Rajshekar (2013). Virat Kohli: Reliable Rebel. Jaico Publishing House. ISBN 978-81-8495-524-8.')]\n",
      "page_content='Virat Kohli (born 5 November 1988) Hindi pronunciation: [ʋɪˈɾaːʈᵊ ˈkoːɦᵊliː]  is an Indian international cricketer and the former captain of the Indian national cricket team. He is a right-handed batsman and an occasional medium-fast bowler. He currently represents Royal Challengers Bengaluru in the IPL and Delhi in domestic cricket. Kohli is widely regarded as one of the greatest batters of all time. He also holds the record for scoring the most centuries in ODI cricket and stands second in the list of most international centuries scored, and is highest run-scorer in IPL. Kohli was a member of the Indian team that won the 2011 Cricket World Cup, 2013 ICC Champions Trophy, 2024 T20 World Cup and 2025 Champions Trophy. Further captained India to win the ICC Test mace three consecutive times in 2017, 2018, and 2019.\n",
      "In 2013, Kohli was ranked number one in the ICC rankings for ODI batsmen. In 2015, he achieved the summit of T20I rankings. In 2018, he was ranked top Test batsman, making him the only Indian cricketer to hold the number one spot in all three formats of the game. He is the first player to score 20,000 runs in a decade. In 2020, the International Cricket Council named him the male cricketer of the decade.\n",
      "Kohli has received many accolades for his performances in cricket. He won the ICC ODI Player of the Year award four times in 2012, 2017, 2018, and 2023. He also won the Sir Garfield Sobers Trophy, given to the ICC Cricketer of the Year, on two occasions, in 2017 and 2018 respectively. In 2018, he became the first player to win both ICC ODI and Test Player of the Year awards in the same year. Also, he was named the Wisden Leading Cricketer in the World for three consecutive years, from 2016 to 2018. At the national level, Kohli was honoured with the Arjuna Award in 2013, the Padma Shri in 2017, and India's highest sporting honour, the Khel Ratna award, in 2018.\n",
      "In 2018, Time magazine included him on its list of the 100 most influential people in the world. Kohli has been deemed one of the most commercially viable athletes, with estimated earnings of ₹634 crore (US$75 million) in the year 2022.\n",
      "\n",
      "\n",
      "== Early life ==\n",
      "Kohli was born on 5 November 1988 in Delhi into a Punjabi Hindu family. His mother Saroj Kohli is as a housewife while his father Prem Nath Kohli worked as a criminal lawyer. He has an elder brother Vikas and an elder sister Bhawna. His formative years were spent in Uttam Nagar. His early education was at Vishal Bharti Public School. As per his family, Kohli exhibited an early affinity for cricket as a 3-year-old. He would pick up a bat and request his father bowl to him. In 1998, the West Delhi Cricket Academy was created. In May, his father arranged for him to meet Rajkumar Sharma. Upon the suggestion of their neighbours, Kohli's father considered enrolling his son in a professional cricket academy, as they believed his ability merited more than gully cricket. He was unable to secure a place in the U-14 Delhi team, due to extraneous factors. His father reportedly received offers to relocate his son to influential clubs, which would ensure his selection, but he declined the proposals. Kohli found his way into the U-15 team. He received training at the academy and participated in matches at the Sumeet Dogra Academy located at Vasundhara Enclave. In pursuit of furthering his cricketing career, he transferred to Saviour Convent School during his ninth-grade education. On 18 December 2006, his father died due to a cerebral attack. As per his mother, Kohli's demeanour shifted noticeably after his father's death. He took on cricket with newfound seriousness, prioritizing playing time and dedicating himself fully to the sport. Kohli's family resided in Meera Bagh, Paschim Vihar until the year 2015, after which they relocated to Gurgaon.\n",
      "\n",
      "\n",
      "== Youth career ==\n",
      "\n",
      "\n",
      "=== Delhi team ===\n",
      "Kohli's junior cricket career kicked off in October 2002 at the Luhnu Cricket Ground against Himachal Pradesh. His first half-century in dom' metadata={'title': 'Virat Kohli', 'summary': \"Virat Kohli (born 5 November 1988) Hindi pronunciation: [ʋɪˈɾaːʈᵊ ˈkoːɦᵊliː]  is an Indian international cricketer and the former captain of the Indian national cricket team. He is a right-handed batsman and an occasional medium-fast bowler. He currently represents Royal Challengers Bengaluru in the IPL and Delhi in domestic cricket. Kohli is widely regarded as one of the greatest batters of all time. He also holds the record for scoring the most centuries in ODI cricket and stands second in the list of most international centuries scored, and is highest run-scorer in IPL. Kohli was a member of the Indian team that won the 2011 Cricket World Cup, 2013 ICC Champions Trophy, 2024 T20 World Cup and 2025 Champions Trophy. Further captained India to win the ICC Test mace three consecutive times in 2017, 2018, and 2019.\\nIn 2013, Kohli was ranked number one in the ICC rankings for ODI batsmen. In 2015, he achieved the summit of T20I rankings. In 2018, he was ranked top Test batsman, making him the only Indian cricketer to hold the number one spot in all three formats of the game. He is the first player to score 20,000 runs in a decade. In 2020, the International Cricket Council named him the male cricketer of the decade.\\nKohli has received many accolades for his performances in cricket. He won the ICC ODI Player of the Year award four times in 2012, 2017, 2018, and 2023. He also won the Sir Garfield Sobers Trophy, given to the ICC Cricketer of the Year, on two occasions, in 2017 and 2018 respectively. In 2018, he became the first player to win both ICC ODI and Test Player of the Year awards in the same year. Also, he was named the Wisden Leading Cricketer in the World for three consecutive years, from 2016 to 2018. At the national level, Kohli was honoured with the Arjuna Award in 2013, the Padma Shri in 2017, and India's highest sporting honour, the Khel Ratna award, in 2018.\\nIn 2018, Time magazine included him on its list of the 100 most influential people in the world. Kohli has been deemed one of the most commercially viable athletes, with estimated earnings of ₹634 crore (US$75 million) in the year 2022.\\n\\n\", 'source': 'https://en.wikipedia.org/wiki/Virat_Kohli'}\n"
     ]
    }
   ],
   "source": [
    "len(wkpDoc)\n",
    "print(wkpDoc)\n",
    "print(wkpDoc[0])"
   ]
  },
  {
   "cell_type": "code",
   "execution_count": null,
   "id": "a07c1a62",
   "metadata": {},
   "outputs": [],
   "source": []
  }
 ],
 "metadata": {
  "kernelspec": {
   "display_name": "venv",
   "language": "python",
   "name": "python3"
  },
  "language_info": {
   "codemirror_mode": {
    "name": "ipython",
    "version": 3
   },
   "file_extension": ".py",
   "mimetype": "text/x-python",
   "name": "python",
   "nbconvert_exporter": "python",
   "pygments_lexer": "ipython3",
   "version": "3.12.8"
  }
 },
 "nbformat": 4,
 "nbformat_minor": 5
}
